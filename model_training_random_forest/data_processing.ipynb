{
 "cells": [
  {
   "cell_type": "markdown",
   "metadata": {
    "id": "UuJZA-bBIh71"
   },
   "source": [
    "# Data Processing for Movement Classification"
   ]
  },
  {
   "cell_type": "markdown",
   "metadata": {
    "id": "UrY_Y5ADIXsB"
   },
   "source": [
    "## Setup"
   ]
  },
  {
   "cell_type": "code",
   "execution_count": 1,
   "metadata": {
    "id": "V6pQyOcLGi6h"
   },
   "outputs": [],
   "source": [
    "# import libraries\n",
    "import os\n",
    "import glob\n",
    "import bz2\n",
    "import pickle\n",
    "\n",
    "import numpy as np\n",
    "import pandas as pd\n",
    "import matplotlib as mpl\n",
    "import matplotlib.pyplot as plt\n",
    "import seaborn as sns\n",
    "\n",
    "from numpy.lib.stride_tricks import sliding_window_view\n",
    "from scipy.stats import mode\n",
    "\n",
    "from sklearn.preprocessing import LabelEncoder\n",
    "\n",
    "%matplotlib inline"
   ]
  },
  {
   "cell_type": "markdown",
   "metadata": {
    "id": "2bNXjs-hI6MX"
   },
   "source": [
    "## Getting the Dataset\n",
    "\n",
    "The files contain the data in two parts: Smartwatch Data Readings, and movement labels. We first construct a function to read the content of .pbz2 files.\n"
   ]
  },
  {
   "cell_type": "code",
   "execution_count": 2,
   "metadata": {
    "id": "CSKn9rBNHdth"
   },
   "outputs": [],
   "source": [
    "# construct a function to read .pbz2 files\n",
    "def read_pbz2(path):\n",
    "    \"\"\"\n",
    "    Read a .pbz2 file from the file path\n",
    "\n",
    "    Parameters:\n",
    "    path (str): The path of the file to read\n",
    "\n",
    "    Returns:\n",
    "    tuple (meta data, smartwatch data): A tuple of meta data and smartwatch readings\n",
    "    \"\"\"\n",
    "\n",
    "    with bz2.BZ2File(path, 'rb') as f:\n",
    "        data = f.read()\n",
    "    decomp_data = pickle.loads(data)\n",
    "\n",
    "    return decomp_data"
   ]
  },
  {
   "cell_type": "markdown",
   "metadata": {
    "id": "ITVOIldxTCQm"
   },
   "source": [
    "There are some empty .csv files in the directory that contain no data."
   ]
  },
  {
   "cell_type": "code",
   "execution_count": 3,
   "metadata": {
    "id": "LqFjt_SQSkNU"
   },
   "outputs": [],
   "source": [
    "# helper function to get a list of empty .csv files\n",
    "def get_empty_csv(directory):\n",
    "    \"\"\"\n",
    "    Create a list of empty csv files (to avoid errors during importing)\n",
    "\n",
    "    Parameters:\n",
    "    directory (str): The path of the directory containing the files\n",
    "\n",
    "    Returns:\n",
    "    list ([file_1, file_2, ...]):\n",
    "    A list containing names of csv files that are empty\n",
    "    \"\"\"\n",
    "\n",
    "    empty_files = []\n",
    "    csv_files = glob.glob(os.path.join(directory, '*.csv'))\n",
    "\n",
    "    for file_name in csv_files:\n",
    "        try:\n",
    "            pd.read_csv(file_name)\n",
    "        except:\n",
    "            empty_files.append(file_name)\n",
    "\n",
    "    return empty_files"
   ]
  },
  {
   "cell_type": "code",
   "execution_count": 4,
   "metadata": {
    "id": "8zYec6ENRdf6"
   },
   "outputs": [],
   "source": [
    "# helper function to organize the files based on experiment\n",
    "def get_files_dict(directory):\n",
    "    \"\"\"\n",
    "    Help function for importing all files in a directory\n",
    "    in an organized manner\n",
    "\n",
    "    Parameters:\n",
    "    directory (str): The path of the directory containing the files\n",
    "\n",
    "    Returns:\n",
    "    dict ({file_key: [.pbz2, .csv1, ...]}):\n",
    "    A dictionary containing the files in the directory grouped by their ID\n",
    "    \"\"\"\n",
    "\n",
    "    pbz2_files = glob.glob(os.path.join(directory, '*.pbz2'))\n",
    "    csv_files = glob.glob(os.path.join(directory, '*.csv'))\n",
    "    empty_files = get_empty_csv(directory)\n",
    "    file_dict = {}\n",
    "\n",
    "    for file_name in pbz2_files:\n",
    "        file_name_short = os.path.basename(file_name)\n",
    "        k = os.path.splitext(file_name_short)[0]\n",
    "        file_dict[k] = [file_name]\n",
    "\n",
    "    # we use the empty .csv list to exempt the empty files from the dictionary\n",
    "    for file_name in csv_files:\n",
    "        if file_name not in empty_files:\n",
    "            file_name_short = os.path.basename(file_name)\n",
    "            k = file_name_short.split('_')[0]\n",
    "            if k in file_dict:\n",
    "                file_dict[k].append(file_name)\n",
    "            else:\n",
    "                file_dict[k] = [file_name]\n",
    "\n",
    "    return file_dict"
   ]
  },
  {
   "cell_type": "code",
   "execution_count": 5,
   "metadata": {
    "colab": {
     "base_uri": "https://localhost:8080/"
    },
    "executionInfo": {
     "elapsed": 400,
     "status": "ok",
     "timestamp": 1694502870943,
     "user": {
      "displayName": "Ahmad Rami AlMasrifi",
      "userId": "02682501928266173600"
     },
     "user_tz": -120
    },
    "id": "SQZ8HoSiVzqM",
    "outputId": "8956ec09-22fa-42e9-f9e2-a08a83f508a4"
   },
   "outputs": [
    {
     "name": "stdout",
     "output_type": "stream",
     "text": [
      "5c91085923feb407ddeb5e1c ['/project/data/5c91085923feb407ddeb5e1c.pbz2', '/project/data/5c91085923feb407ddeb5e1c_0_KH2018_movements.csv', '/project/data/5c91085923feb407ddeb5e1c_1_KH2018_movements_seq.csv']\n"
     ]
    }
   ],
   "source": [
    "file_dict = get_files_dict('/project/data/')\n",
    "print('5c91085923feb407ddeb5e1c', file_dict['5c91085923feb407ddeb5e1c'])"
   ]
  },
  {
   "cell_type": "markdown",
   "metadata": {
    "id": "yzFmj38SUipv"
   },
   "source": [
    "The files are organized into multiple experiments (readings) where different children executed various movements and their readings were recorded. In addition to the readings and meta data, we have files with movements labels.\n",
    "\n",
    "After organizing the files together in a dictionary, we need a helper function to merge the two dataframes on time index creating labeled readings."
   ]
  },
  {
   "cell_type": "code",
   "execution_count": 6,
   "metadata": {
    "id": "AbWyxBR-SbcZ"
   },
   "outputs": [],
   "source": [
    "# helper function to merge two dataframes (readings and labels) on time\n",
    "def merge_dfs(df_1, df_2):\n",
    "    \"\"\"\n",
    "    Merge smartwatch data on timestamp with movements data on time\n",
    "\n",
    "    Parameters:\n",
    "    df_1 (DataFrame): Dataframe containing smartwatch data\n",
    "    df_2 (DataFrame): Dataframe containing movement data\n",
    "\n",
    "    Returns:\n",
    "    DataFrame: Dataframe containing movement labeled smartwatch data\n",
    "    \"\"\"\n",
    "\n",
    "    ts = float(df_2.Comments[0].split(' ')[1])\n",
    "    # changing the data readings to match the frequency of the labels\n",
    "    df_2['t'] = df_2.Time.apply(lambda x: x + ts)\n",
    "    df_2 = df_2.drop(['Time', 'Comments', 'Handedness'], axis=1)                ## not sure whether to remove Handedness or not\n",
    "    end = df_2.t.max()\n",
    "    df_merged = pd.merge_ordered(df_1, df_2, on='t', fill_method='ffill')\n",
    "    df_merged = df_merged[df_merged.t <= end]\n",
    "    # replacing nan values with no_movement label\n",
    "    df_merged['Movement'] = df_merged.loc[:, 'Movement'].replace(np.nan, 'no_movement')\n",
    "    # replacing incorrect value (Glas_grabbing)\n",
    "    df_merged['Movement'] = df_merged.loc[:, 'Movement'].replace('Glas_grabbing', 'Glass_grabbing')\n",
    "    # replacing incorrect value (Glas_grabbing)\n",
    "    df_merged.dropna(axis=0, how='any', inplace=True)\n",
    "    # setting the timeseries index\n",
    "    df_merged.set_index('t', inplace=True)\n",
    "\n",
    "    return df_merged"
   ]
  },
  {
   "cell_type": "code",
   "execution_count": 7,
   "metadata": {
    "colab": {
     "base_uri": "https://localhost:8080/",
     "height": 238
    },
    "executionInfo": {
     "elapsed": 9,
     "status": "ok",
     "timestamp": 1694502871439,
     "user": {
      "displayName": "Ahmad Rami AlMasrifi",
      "userId": "02682501928266173600"
     },
     "user_tz": -120
    },
    "id": "-LHwqyKnUGNQ",
    "outputId": "0c32f26d-dd4c-4cbc-9553-57acffdd29eb"
   },
   "outputs": [
    {
     "data": {
      "text/html": [
       "<div>\n",
       "<style scoped>\n",
       "    .dataframe tbody tr th:only-of-type {\n",
       "        vertical-align: middle;\n",
       "    }\n",
       "\n",
       "    .dataframe tbody tr th {\n",
       "        vertical-align: top;\n",
       "    }\n",
       "\n",
       "    .dataframe thead th {\n",
       "        text-align: right;\n",
       "    }\n",
       "</style>\n",
       "<table border=\"1\" class=\"dataframe\">\n",
       "  <thead>\n",
       "    <tr style=\"text-align: right;\">\n",
       "      <th></th>\n",
       "      <th>uacc_x</th>\n",
       "      <th>uacc_y</th>\n",
       "      <th>uacc_z</th>\n",
       "      <th>gyr_x</th>\n",
       "      <th>gyr_y</th>\n",
       "      <th>gyr_z</th>\n",
       "      <th>grav_x</th>\n",
       "      <th>grav_y</th>\n",
       "      <th>grav_z</th>\n",
       "      <th>att_w</th>\n",
       "      <th>att_x</th>\n",
       "      <th>att_y</th>\n",
       "      <th>att_z</th>\n",
       "      <th>Movement</th>\n",
       "    </tr>\n",
       "    <tr>\n",
       "      <th>t</th>\n",
       "      <th></th>\n",
       "      <th></th>\n",
       "      <th></th>\n",
       "      <th></th>\n",
       "      <th></th>\n",
       "      <th></th>\n",
       "      <th></th>\n",
       "      <th></th>\n",
       "      <th></th>\n",
       "      <th></th>\n",
       "      <th></th>\n",
       "      <th></th>\n",
       "      <th></th>\n",
       "      <th></th>\n",
       "    </tr>\n",
       "  </thead>\n",
       "  <tbody>\n",
       "    <tr>\n",
       "      <th>1.553001e+09</th>\n",
       "      <td>0.029788</td>\n",
       "      <td>0.021187</td>\n",
       "      <td>-0.003950</td>\n",
       "      <td>-0.102073</td>\n",
       "      <td>-0.183036</td>\n",
       "      <td>-0.024474</td>\n",
       "      <td>-0.071765</td>\n",
       "      <td>-0.373192</td>\n",
       "      <td>-0.924974</td>\n",
       "      <td>0.981040</td>\n",
       "      <td>0.190448</td>\n",
       "      <td>-0.035248</td>\n",
       "      <td>0.006843</td>\n",
       "      <td>no_movement</td>\n",
       "    </tr>\n",
       "    <tr>\n",
       "      <th>1.553001e+09</th>\n",
       "      <td>0.036850</td>\n",
       "      <td>0.025760</td>\n",
       "      <td>-0.012893</td>\n",
       "      <td>0.068435</td>\n",
       "      <td>-0.239833</td>\n",
       "      <td>-0.038702</td>\n",
       "      <td>-0.075348</td>\n",
       "      <td>-0.372867</td>\n",
       "      <td>-0.924820</td>\n",
       "      <td>0.981006</td>\n",
       "      <td>0.190276</td>\n",
       "      <td>-0.037213</td>\n",
       "      <td>0.006138</td>\n",
       "      <td>no_movement</td>\n",
       "    </tr>\n",
       "    <tr>\n",
       "      <th>1.553001e+09</th>\n",
       "      <td>0.029177</td>\n",
       "      <td>-0.006785</td>\n",
       "      <td>0.002810</td>\n",
       "      <td>0.163142</td>\n",
       "      <td>-0.237258</td>\n",
       "      <td>-0.060632</td>\n",
       "      <td>-0.079378</td>\n",
       "      <td>-0.375234</td>\n",
       "      <td>-0.923525</td>\n",
       "      <td>0.980681</td>\n",
       "      <td>0.191525</td>\n",
       "      <td>-0.039442</td>\n",
       "      <td>0.005266</td>\n",
       "      <td>no_movement</td>\n",
       "    </tr>\n",
       "    <tr>\n",
       "      <th>1.553001e+09</th>\n",
       "      <td>-0.005181</td>\n",
       "      <td>-0.031485</td>\n",
       "      <td>0.028754</td>\n",
       "      <td>0.122949</td>\n",
       "      <td>-0.195905</td>\n",
       "      <td>-0.065495</td>\n",
       "      <td>-0.082924</td>\n",
       "      <td>-0.378198</td>\n",
       "      <td>-0.922003</td>\n",
       "      <td>0.980297</td>\n",
       "      <td>0.193082</td>\n",
       "      <td>-0.041444</td>\n",
       "      <td>0.004323</td>\n",
       "      <td>no_movement</td>\n",
       "    </tr>\n",
       "    <tr>\n",
       "      <th>1.553001e+09</th>\n",
       "      <td>-0.023226</td>\n",
       "      <td>-0.036402</td>\n",
       "      <td>0.028817</td>\n",
       "      <td>-0.003729</td>\n",
       "      <td>-0.077282</td>\n",
       "      <td>-0.040135</td>\n",
       "      <td>-0.085020</td>\n",
       "      <td>-0.379323</td>\n",
       "      <td>-0.921350</td>\n",
       "      <td>0.980134</td>\n",
       "      <td>0.193663</td>\n",
       "      <td>-0.042657</td>\n",
       "      <td>0.003615</td>\n",
       "      <td>no_movement</td>\n",
       "    </tr>\n",
       "  </tbody>\n",
       "</table>\n",
       "</div>"
      ],
      "text/plain": [
       "                uacc_x    uacc_y    uacc_z     gyr_x     gyr_y     gyr_z  \\\n",
       "t                                                                          \n",
       "1.553001e+09  0.029788  0.021187 -0.003950 -0.102073 -0.183036 -0.024474   \n",
       "1.553001e+09  0.036850  0.025760 -0.012893  0.068435 -0.239833 -0.038702   \n",
       "1.553001e+09  0.029177 -0.006785  0.002810  0.163142 -0.237258 -0.060632   \n",
       "1.553001e+09 -0.005181 -0.031485  0.028754  0.122949 -0.195905 -0.065495   \n",
       "1.553001e+09 -0.023226 -0.036402  0.028817 -0.003729 -0.077282 -0.040135   \n",
       "\n",
       "                grav_x    grav_y    grav_z     att_w     att_x     att_y  \\\n",
       "t                                                                          \n",
       "1.553001e+09 -0.071765 -0.373192 -0.924974  0.981040  0.190448 -0.035248   \n",
       "1.553001e+09 -0.075348 -0.372867 -0.924820  0.981006  0.190276 -0.037213   \n",
       "1.553001e+09 -0.079378 -0.375234 -0.923525  0.980681  0.191525 -0.039442   \n",
       "1.553001e+09 -0.082924 -0.378198 -0.922003  0.980297  0.193082 -0.041444   \n",
       "1.553001e+09 -0.085020 -0.379323 -0.921350  0.980134  0.193663 -0.042657   \n",
       "\n",
       "                 att_z     Movement  \n",
       "t                                    \n",
       "1.553001e+09  0.006843  no_movement  \n",
       "1.553001e+09  0.006138  no_movement  \n",
       "1.553001e+09  0.005266  no_movement  \n",
       "1.553001e+09  0.004323  no_movement  \n",
       "1.553001e+09  0.003615  no_movement  "
      ]
     },
     "execution_count": 7,
     "metadata": {},
     "output_type": "execute_result"
    }
   ],
   "source": [
    "df_1 = read_pbz2('/project/data/5c91085923feb407ddeb5e1c.pbz2')[1]\n",
    "df_2 = pd.read_csv('/project/data/5c91085923feb407ddeb5e1c_0_KH2018_movements.csv')\n",
    "df_exp = merge_dfs(df_1, df_2)\n",
    "df_exp.head()"
   ]
  },
  {
   "cell_type": "code",
   "execution_count": 8,
   "metadata": {
    "colab": {
     "base_uri": "https://localhost:8080/",
     "height": 449
    },
    "executionInfo": {
     "elapsed": 3237,
     "status": "ok",
     "timestamp": 1694502874671,
     "user": {
      "displayName": "Ahmad Rami AlMasrifi",
      "userId": "02682501928266173600"
     },
     "user_tz": -120
    },
    "id": "IkpBb4NZaQiK",
    "outputId": "afedd6b6-895b-4c35-eecc-e1e6ff04f77d"
   },
   "outputs": [
    {
     "data": {
      "image/png": "[encoded data removed]",
      "text/plain": [
       "<Figure size 640x480 with 12 Axes>"
      ]
     },
     "metadata": {},
     "output_type": "display_data"
    }
   ],
   "source": [
    "# explore the frequencies of the features of the data\n",
    "plot_features = df_exp.iloc[:500, 1:-1]\n",
    "plot_features.index = df_exp.index[:500]\n",
    "_ = plot_features.plot(subplots=True)"
   ]
  },
  {
   "cell_type": "code",
   "execution_count": 9,
   "metadata": {
    "colab": {
     "base_uri": "https://localhost:8080/",
     "height": 457
    },
    "executionInfo": {
     "elapsed": 42,
     "status": "ok",
     "timestamp": 1694502874672,
     "user": {
      "displayName": "Ahmad Rami AlMasrifi",
      "userId": "02682501928266173600"
     },
     "user_tz": -120
    },
    "id": "2osKpRP5bsKF",
    "outputId": "d4d99dc8-88d0-4881-c6f4-13f9f6d1d80b"
   },
   "outputs": [
    {
     "data": {
      "text/html": [
       "<div>\n",
       "<style scoped>\n",
       "    .dataframe tbody tr th:only-of-type {\n",
       "        vertical-align: middle;\n",
       "    }\n",
       "\n",
       "    .dataframe tbody tr th {\n",
       "        vertical-align: top;\n",
       "    }\n",
       "\n",
       "    .dataframe thead th {\n",
       "        text-align: right;\n",
       "    }\n",
       "</style>\n",
       "<table border=\"1\" class=\"dataframe\">\n",
       "  <thead>\n",
       "    <tr style=\"text-align: right;\">\n",
       "      <th></th>\n",
       "      <th>count</th>\n",
       "      <th>mean</th>\n",
       "      <th>std</th>\n",
       "      <th>min</th>\n",
       "      <th>25%</th>\n",
       "      <th>50%</th>\n",
       "      <th>75%</th>\n",
       "      <th>max</th>\n",
       "    </tr>\n",
       "  </thead>\n",
       "  <tbody>\n",
       "    <tr>\n",
       "      <th>uacc_x</th>\n",
       "      <td>30222.0</td>\n",
       "      <td>0.191749</td>\n",
       "      <td>0.805496</td>\n",
       "      <td>-7.766358</td>\n",
       "      <td>-0.079826</td>\n",
       "      <td>0.025527</td>\n",
       "      <td>0.306226</td>\n",
       "      <td>15.373652</td>\n",
       "    </tr>\n",
       "    <tr>\n",
       "      <th>uacc_y</th>\n",
       "      <td>30222.0</td>\n",
       "      <td>0.065903</td>\n",
       "      <td>0.690108</td>\n",
       "      <td>-10.066143</td>\n",
       "      <td>-0.174020</td>\n",
       "      <td>0.019165</td>\n",
       "      <td>0.283259</td>\n",
       "      <td>16.014387</td>\n",
       "    </tr>\n",
       "    <tr>\n",
       "      <th>uacc_z</th>\n",
       "      <td>30222.0</td>\n",
       "      <td>0.078779</td>\n",
       "      <td>0.696497</td>\n",
       "      <td>-15.581813</td>\n",
       "      <td>-0.146428</td>\n",
       "      <td>0.001266</td>\n",
       "      <td>0.281421</td>\n",
       "      <td>9.766805</td>\n",
       "    </tr>\n",
       "    <tr>\n",
       "      <th>gyr_x</th>\n",
       "      <td>30222.0</td>\n",
       "      <td>0.016798</td>\n",
       "      <td>3.205841</td>\n",
       "      <td>-30.724142</td>\n",
       "      <td>-1.025510</td>\n",
       "      <td>0.015192</td>\n",
       "      <td>1.237012</td>\n",
       "      <td>23.634851</td>\n",
       "    </tr>\n",
       "    <tr>\n",
       "      <th>gyr_y</th>\n",
       "      <td>30222.0</td>\n",
       "      <td>0.098120</td>\n",
       "      <td>2.011890</td>\n",
       "      <td>-15.719363</td>\n",
       "      <td>-0.636944</td>\n",
       "      <td>0.039375</td>\n",
       "      <td>0.850360</td>\n",
       "      <td>17.694574</td>\n",
       "    </tr>\n",
       "    <tr>\n",
       "      <th>gyr_z</th>\n",
       "      <td>30222.0</td>\n",
       "      <td>0.012152</td>\n",
       "      <td>2.620284</td>\n",
       "      <td>-17.784435</td>\n",
       "      <td>-0.839250</td>\n",
       "      <td>0.019353</td>\n",
       "      <td>0.852141</td>\n",
       "      <td>24.157465</td>\n",
       "    </tr>\n",
       "    <tr>\n",
       "      <th>grav_x</th>\n",
       "      <td>30222.0</td>\n",
       "      <td>0.680258</td>\n",
       "      <td>0.445466</td>\n",
       "      <td>-0.999816</td>\n",
       "      <td>0.592010</td>\n",
       "      <td>0.894319</td>\n",
       "      <td>0.960862</td>\n",
       "      <td>0.999998</td>\n",
       "    </tr>\n",
       "    <tr>\n",
       "      <th>grav_y</th>\n",
       "      <td>30222.0</td>\n",
       "      <td>0.217243</td>\n",
       "      <td>0.394411</td>\n",
       "      <td>-0.999754</td>\n",
       "      <td>0.023260</td>\n",
       "      <td>0.223318</td>\n",
       "      <td>0.463118</td>\n",
       "      <td>0.999741</td>\n",
       "    </tr>\n",
       "    <tr>\n",
       "      <th>grav_z</th>\n",
       "      <td>30222.0</td>\n",
       "      <td>-0.192394</td>\n",
       "      <td>0.314729</td>\n",
       "      <td>-0.999652</td>\n",
       "      <td>-0.371066</td>\n",
       "      <td>-0.152849</td>\n",
       "      <td>0.024632</td>\n",
       "      <td>0.979021</td>\n",
       "    </tr>\n",
       "    <tr>\n",
       "      <th>att_w</th>\n",
       "      <td>30222.0</td>\n",
       "      <td>0.135927</td>\n",
       "      <td>0.599820</td>\n",
       "      <td>-0.997781</td>\n",
       "      <td>-0.511052</td>\n",
       "      <td>0.369148</td>\n",
       "      <td>0.654838</td>\n",
       "      <td>0.992748</td>\n",
       "    </tr>\n",
       "    <tr>\n",
       "      <th>att_x</th>\n",
       "      <td>30222.0</td>\n",
       "      <td>-0.088223</td>\n",
       "      <td>0.360879</td>\n",
       "      <td>-0.911842</td>\n",
       "      <td>-0.377015</td>\n",
       "      <td>-0.124455</td>\n",
       "      <td>0.179943</td>\n",
       "      <td>0.844092</td>\n",
       "    </tr>\n",
       "    <tr>\n",
       "      <th>att_y</th>\n",
       "      <td>30222.0</td>\n",
       "      <td>0.135022</td>\n",
       "      <td>0.497562</td>\n",
       "      <td>-0.896908</td>\n",
       "      <td>-0.362333</td>\n",
       "      <td>0.306448</td>\n",
       "      <td>0.579763</td>\n",
       "      <td>0.882244</td>\n",
       "    </tr>\n",
       "    <tr>\n",
       "      <th>att_z</th>\n",
       "      <td>30222.0</td>\n",
       "      <td>0.067786</td>\n",
       "      <td>0.461910</td>\n",
       "      <td>-0.991921</td>\n",
       "      <td>-0.292689</td>\n",
       "      <td>0.105815</td>\n",
       "      <td>0.445049</td>\n",
       "      <td>0.989588</td>\n",
       "    </tr>\n",
       "  </tbody>\n",
       "</table>\n",
       "</div>"
      ],
      "text/plain": [
       "          count      mean       std        min       25%       50%       75%  \\\n",
       "uacc_x  30222.0  0.191749  0.805496  -7.766358 -0.079826  0.025527  0.306226   \n",
       "uacc_y  30222.0  0.065903  0.690108 -10.066143 -0.174020  0.019165  0.283259   \n",
       "uacc_z  30222.0  0.078779  0.696497 -15.581813 -0.146428  0.001266  0.281421   \n",
       "gyr_x   30222.0  0.016798  3.205841 -30.724142 -1.025510  0.015192  1.237012   \n",
       "gyr_y   30222.0  0.098120  2.011890 -15.719363 -0.636944  0.039375  0.850360   \n",
       "gyr_z   30222.0  0.012152  2.620284 -17.784435 -0.839250  0.019353  0.852141   \n",
       "grav_x  30222.0  0.680258  0.445466  -0.999816  0.592010  0.894319  0.960862   \n",
       "grav_y  30222.0  0.217243  0.394411  -0.999754  0.023260  0.223318  0.463118   \n",
       "grav_z  30222.0 -0.192394  0.314729  -0.999652 -0.371066 -0.152849  0.024632   \n",
       "att_w   30222.0  0.135927  0.599820  -0.997781 -0.511052  0.369148  0.654838   \n",
       "att_x   30222.0 -0.088223  0.360879  -0.911842 -0.377015 -0.124455  0.179943   \n",
       "att_y   30222.0  0.135022  0.497562  -0.896908 -0.362333  0.306448  0.579763   \n",
       "att_z   30222.0  0.067786  0.461910  -0.991921 -0.292689  0.105815  0.445049   \n",
       "\n",
       "              max  \n",
       "uacc_x  15.373652  \n",
       "uacc_y  16.014387  \n",
       "uacc_z   9.766805  \n",
       "gyr_x   23.634851  \n",
       "gyr_y   17.694574  \n",
       "gyr_z   24.157465  \n",
       "grav_x   0.999998  \n",
       "grav_y   0.999741  \n",
       "grav_z   0.979021  \n",
       "att_w    0.992748  \n",
       "att_x    0.844092  \n",
       "att_y    0.882244  \n",
       "att_z    0.989588  "
      ]
     },
     "execution_count": 9,
     "metadata": {},
     "output_type": "execute_result"
    }
   ],
   "source": [
    "df_exp.describe().transpose()"
   ]
  },
  {
   "cell_type": "code",
   "execution_count": 10,
   "metadata": {
    "colab": {
     "base_uri": "https://localhost:8080/"
    },
    "executionInfo": {
     "elapsed": 40,
     "status": "ok",
     "timestamp": 1694502874673,
     "user": {
      "displayName": "Ahmad Rami AlMasrifi",
      "userId": "02682501928266173600"
     },
     "user_tz": -120
    },
    "id": "g1jSmHZvb5Z2",
    "outputId": "412f1d17-7ca5-412e-f4ba-ab915eeb2d31"
   },
   "outputs": [
    {
     "data": {
      "text/plain": [
       "no_movement    22195\n",
       "Hopscotch       1786\n",
       "Frog            1024\n",
       "Seal             744\n",
       "Swimming         739\n",
       "Goliath          697\n",
       "Rabbit           696\n",
       "Dwarf            684\n",
       "Bear             559\n",
       "Spider           506\n",
       "Crab             380\n",
       "Lame_fox         212\n",
       "Name: Movement, dtype: int64"
      ]
     },
     "execution_count": 10,
     "metadata": {},
     "output_type": "execute_result"
    }
   ],
   "source": [
    "df_exp.Movement.value_counts()"
   ]
  },
  {
   "cell_type": "code",
   "execution_count": 11,
   "metadata": {
    "colab": {
     "base_uri": "https://localhost:8080/",
     "height": 430
    },
    "executionInfo": {
     "elapsed": 36,
     "status": "ok",
     "timestamp": 1694502874673,
     "user": {
      "displayName": "Ahmad Rami AlMasrifi",
      "userId": "02682501928266173600"
     },
     "user_tz": -120
    },
    "id": "Hb6zy2a4dZP1",
    "outputId": "720cd684-145c-446a-c0e6-0d5d6bc7ad7a"
   },
   "outputs": [
    {
     "data": {
      "image/png": "[encoded data removed]",
      "text/plain": [
       "<Figure size 640x480 with 1 Axes>"
      ]
     },
     "metadata": {},
     "output_type": "display_data"
    }
   ],
   "source": [
    "# plotting the frequency of movement\n",
    "movement = np.where(df_exp.Movement != 'no_movement', 1, 0)\n",
    "plt.plot(movement)\n",
    "plt.show()"
   ]
  },
  {
   "cell_type": "markdown",
   "metadata": {
    "id": "_li1uLv1eHf4"
   },
   "source": [
    "### Splitting the Data\n",
    "\n",
    "We divide the children into three groups of train, validation and test with 50%, 25% and 25% respectively. To do this we choose random samples from the IDs of the children to make sure the data is independent, and not randomly shuffled."
   ]
  },
  {
   "cell_type": "code",
   "execution_count": 12,
   "metadata": {
    "id": "S78bRWmwWhnR"
   },
   "outputs": [],
   "source": [
    "# helper function to select child ids for train, validation, and test groups\n",
    "def separate_ids(ids):\n",
    "    \"\"\"\n",
    "    Split the children in the experiment between train, validation, and test groups.\n",
    "\n",
    "    Parameters:\n",
    "    ids (list): A list of children IDs\n",
    "\n",
    "    Returns:\n",
    "    tuple(lists): A tuple of lists containing IDs for three groups\n",
    "    \"\"\"\n",
    "\n",
    "    # set the seed\n",
    "    np.random.seed(42)\n",
    "    # change the list to a unique one\n",
    "    ids_unique = list(set(ids))\n",
    "    # sample the validation and test IDs\n",
    "    valid_test = np.random.choice(ids_unique, size=20, replace=False)\n",
    "    # restructure the training IDs\n",
    "    train = [id for id in ids_unique if id not in valid_test]\n",
    "    # sample the test IDs from the valid_test\n",
    "    test = np.random.choice(valid_test, size=10, replace=False)\n",
    "    # restructure the valid IDs\n",
    "    valid = [v for v in valid_test if v not in test]\n",
    "\n",
    "    return train, valid, test"
   ]
  },
  {
   "cell_type": "markdown",
   "metadata": {
    "id": "moE-B4Q1PnrQ"
   },
   "source": [
    "### Standardization and Storing Data"
   ]
  },
  {
   "cell_type": "code",
   "execution_count": 15,
   "metadata": {
    "id": "aVYZF3rEXYx3"
   },
   "outputs": [],
   "source": [
    "def get_dfs_lists():\n",
    "    \"\"\"\n",
    "    Concatenate all smartwatch data with their labels to create one dataset\n",
    "\n",
    "    Returns:\n",
    "    DataFrame: Dataframe containing all experiments (smartwatch data + labels)\n",
    "    \"\"\"\n",
    "\n",
    "    # specify the directory and get the file_dict\n",
    "    directory = '/project/data/'\n",
    "    file_dict = get_files_dict(directory)\n",
    "\n",
    "    # initialize data and ids\n",
    "    data = []\n",
    "    ids = []\n",
    "\n",
    "    train_data = []\n",
    "    valid_data = []\n",
    "    test_data = []\n",
    "\n",
    "    train_features = []\n",
    "    valid_features = []\n",
    "    test_features = []\n",
    "\n",
    "    train_labels = []\n",
    "    valid_labels = []\n",
    "    test_labels = []\n",
    "\n",
    "    # loop over the experiments\n",
    "    for experiment in file_dict.keys():\n",
    "        # if there's only 1 file skip (no movements labels)\n",
    "        if len(file_dict[experiment]) == 1:\n",
    "            continue\n",
    "        # if there are 2 or more files, merge the dataframes to get labeled data\n",
    "        else:\n",
    "            meta_data = read_pbz2(file_dict[experiment][0])[0]\n",
    "            animal_name = meta_data['animal']['animalName']\n",
    "\n",
    "            # only select the data for normally developed children\n",
    "            df_1 = read_pbz2(file_dict[experiment][0])[1]\n",
    "            df_2 = pd.read_csv(file_dict[experiment][1])\n",
    "            df_exp = merge_dfs(df_1, df_2)\n",
    "            df_exp.reset_index(drop=True, inplace=True)\n",
    "            id = animal_name\n",
    "\n",
    "            # check if the data is not empty before appending to the list\n",
    "            if len(df_exp) != 0:\n",
    "                data.append(df_exp)\n",
    "                ids.append(id)\n",
    "\n",
    "    train_id, valid_id, test_id = separate_ids(ids)\n",
    "\n",
    "    # loop over the list of ids and append each dataframe to its relevant list\n",
    "    for idx, id in enumerate(ids):\n",
    "        # check if the dataframe is not empty\n",
    "        if id in train_id and len(data[idx]) !=0:\n",
    "            train_data.append(data[idx])\n",
    "        elif id in valid_id and len(data[idx]) !=0:\n",
    "            valid_data.append(data[idx])\n",
    "        elif id in test_id and len(data[idx]) !=0:\n",
    "            test_data.append(data[idx])\n",
    "\n",
    "    # standardize the data\n",
    "    # first get the mean and standard deviation by dataframe in train data list\n",
    "    train_means = [train_df.mean(numeric_only=True) for train_df in train_data]\n",
    "    train_stds = [train_df.std(numeric_only=True) for train_df in train_data]\n",
    "    # aggregate the mean and standard deviation\n",
    "    train_mean = np.mean(train_means, axis=0)\n",
    "    train_std = np.mean(train_stds, axis=0)\n",
    "\n",
    "    # transforming train, valid, test data\n",
    "    for train_df in train_data:\n",
    "        y_train = train_df['Movement'].values\n",
    "        x_train = train_df.drop('Movement', axis=1)\n",
    "        x_train = (x_train - train_mean) / train_std\n",
    "\n",
    "        train_features.append(x_train)\n",
    "        train_labels.append(y_train)\n",
    "\n",
    "\n",
    "    for valid_df in valid_data:\n",
    "        y_valid = valid_df['Movement'].values\n",
    "        x_valid = valid_df.drop('Movement', axis=1)\n",
    "        x_valid = (x_valid - train_mean) / train_std\n",
    "\n",
    "        valid_features.append(x_valid)\n",
    "        valid_labels.append(y_valid)\n",
    "\n",
    "    for test_df in test_data:\n",
    "        y_test = test_df['Movement'].values\n",
    "        x_test = test_df.drop('Movement', axis=1)\n",
    "        x_test = (x_test - train_mean) / train_std\n",
    "\n",
    "        test_features.append(x_test)\n",
    "        test_labels.append(y_test)\n",
    "\n",
    "\n",
    "\n",
    "    return (train_features, valid_features, test_features,\n",
    "            train_labels, valid_labels, test_labels)"
   ]
  },
  {
   "cell_type": "code",
   "execution_count": 16,
   "metadata": {
    "id": "GAW_Egoj7JvS"
   },
   "outputs": [],
   "source": [
    "train_features, valid_features, test_features, train_labels, valid_labels, test_labels = get_dfs_lists()"
   ]
  },
  {
   "cell_type": "code",
   "execution_count": 17,
   "metadata": {
    "colab": {
     "base_uri": "https://localhost:8080/",
     "height": 542
    },
    "executionInfo": {
     "elapsed": 1059,
     "status": "ok",
     "timestamp": 1694503039406,
     "user": {
      "displayName": "Ahmad Rami AlMasrifi",
      "userId": "02682501928266173600"
     },
     "user_tz": -120
    },
    "id": "IIUFsUbTQlbJ",
    "outputId": "00fa424c-1ac0-47a3-a166-034836ddce78"
   },
   "outputs": [
    {
     "data": {
      "image/png": "[encoded data removed]",
      "text/plain": [
       "<Figure size 1200x600 with 1 Axes>"
      ]
     },
     "metadata": {},
     "output_type": "display_data"
    }
   ],
   "source": [
    "df_std = train_features[0]\n",
    "df_std = df_std.melt(var_name='Column', value_name='Normalized')\n",
    "plt.figure(figsize=(12, 6))\n",
    "ax = sns.violinplot(x='Column', y='Normalized', data=df_std)\n",
    "plt.show()"
   ]
  },
  {
   "cell_type": "markdown",
   "metadata": {
    "id": "9jYA1M05Hhkl"
   },
   "source": [
    "### Data Windowing\n",
    "\n",
    "In order for the models to work on the time series classification problems we need to first window the data of each experiment. After that, we can generate our final data sets by stacking the arrays together."
   ]
  },
  {
   "cell_type": "code",
   "execution_count": 18,
   "metadata": {
    "id": "RlU-y3PZQJwd"
   },
   "outputs": [],
   "source": [
    "# construct a function to generate windowed data\n",
    "def generate_window(x, y, window_length, stride):\n",
    "    \"\"\"\n",
    "    Generate windows of X, and y arrays for time series classification\n",
    "\n",
    "    Parameters:\n",
    "    x (2d numpy array): Two dimensional numpy array with axis 0 as the readings\n",
    "                        and axis 1 as the variables\n",
    "    y (1d numpy array): One dimensional numpy array with labels\n",
    "    window_length (int): Integer specifying the length of the instances\n",
    "    stride (int): Integer specifying the overlap (step jump)\n",
    "\n",
    "    Returns:\n",
    "    tuple (3d numpy array, 1d numpy array): A tuple of numpy arrays; the first\n",
    "            with shape (instances, variables, steps) and\n",
    "            the second specifying the labels using the most frequent value over the time steps\n",
    "    \"\"\"\n",
    "    ## sliding a window of specific length and stride over a 2d numpy array\n",
    "    x = sliding_window_view(x, window_length, 0)[::stride, :, :]\n",
    "\n",
    "    ## encode y before applying sliding window in order for mode to work\n",
    "    le = LabelEncoder()\n",
    "    y = le.fit_transform(y)\n",
    "\n",
    "    ## sliding a window of specific length, stride getting the most frequent value\n",
    "    y = sliding_window_view(y, window_length, 0)[::stride, :]\n",
    "    # get the mode over the time steps\n",
    "    y = mode(y, axis=1, keepdims=False)[0]\n",
    "\n",
    "    # transform the data back to the original labels\n",
    "    y = le.inverse_transform(y)\n",
    "\n",
    "    return x, y"
   ]
  },
  {
   "cell_type": "code",
   "execution_count": 19,
   "metadata": {
    "id": "mt3tzc8Ific2"
   },
   "outputs": [],
   "source": [
    "def get_data(sub):\n",
    "    \"\"\"\n",
    "    Generate the final data sets to use for the ML development\n",
    "\n",
    "    Parameters:\n",
    "    sub (str): String defining whether to return train, valid or test data\n",
    "\n",
    "    Returns:\n",
    "    tuple (3d numpy array, 1d numpy array): Tuple of feature, and target arrays\n",
    "    \"\"\"\n",
    "    # retrieve the data lists\n",
    "    train_features, valid_features, test_features, train_labels, valid_labels, test_labels = get_dfs_lists()\n",
    "\n",
    "    # new lists to hold the windowed data\n",
    "    X = []\n",
    "    Y = []\n",
    "\n",
    "    # specify the window length and stride\n",
    "    window_length = 100\n",
    "    stride = 50\n",
    "\n",
    "    # decide which sets to return\n",
    "    if sub == 'train':\n",
    "        # loop over the specific list\n",
    "        for x, y in zip(train_features, train_labels):\n",
    "            x, y = generate_window(x, y, window_length, stride)\n",
    "            X.append(x)\n",
    "            Y.append(y)\n",
    "\n",
    "    elif sub == 'valid':\n",
    "        for x, y in zip(valid_features, valid_labels):\n",
    "            x, y = generate_window(x, y, window_length, stride)\n",
    "            X.append(x)\n",
    "            Y.append(y)\n",
    "\n",
    "    elif sub == 'test':\n",
    "        for x, y in zip(test_features, test_labels):\n",
    "            x, y = generate_window(x, y, window_length, stride)\n",
    "            X.append(x)\n",
    "            Y.append(y)\n",
    "\n",
    "    # stack the lists X, Y\n",
    "    X = np.vstack(X)\n",
    "    Y = np.hstack(Y)\n",
    "\n",
    "    return X, Y"
   ]
  },
  {
   "cell_type": "code",
   "execution_count": null,
   "metadata": {
    "id": "C_30GDWgmcdW"
   },
   "outputs": [],
   "source": [
    "X_train, y_train = get_data('train')"
   ]
  },
  {
   "cell_type": "code",
   "execution_count": null,
   "metadata": {
    "id": "dV-LqK1dOdii"
   },
   "outputs": [],
   "source": [
    "X_valid, y_valid = get_data('valid')"
   ]
  },
  {
   "cell_type": "code",
   "execution_count": null,
   "metadata": {
    "id": "E2shSUGfOf_l"
   },
   "outputs": [],
   "source": [
    "X_test, y_test = get_data('test')"
   ]
  },
  {
   "cell_type": "code",
   "execution_count": null,
   "metadata": {
    "colab": {
     "base_uri": "https://localhost:8080/"
    },
    "executionInfo": {
     "elapsed": 22,
     "status": "ok",
     "timestamp": 1694503526826,
     "user": {
      "displayName": "Ahmad Rami AlMasrifi",
      "userId": "02682501928266173600"
     },
     "user_tz": -120
    },
    "id": "K__mq6a3ON0V",
    "outputId": "5536b183-3ba9-4c81-89fd-3c53c4d7362c"
   },
   "outputs": [],
   "source": [
    "X_train.shape, y_train.shape"
   ]
  },
  {
   "cell_type": "code",
   "execution_count": null,
   "metadata": {
    "colab": {
     "base_uri": "https://localhost:8080/"
    },
    "executionInfo": {
     "elapsed": 19,
     "status": "ok",
     "timestamp": 1694503526826,
     "user": {
      "displayName": "Ahmad Rami AlMasrifi",
      "userId": "02682501928266173600"
     },
     "user_tz": -120
    },
    "id": "MSTnH8w0QkVB",
    "outputId": "388aff4c-3160-4e57-cbe6-47766a7de938"
   },
   "outputs": [],
   "source": [
    "X_valid.shape, y_valid.shape"
   ]
  },
  {
   "cell_type": "code",
   "execution_count": null,
   "metadata": {
    "colab": {
     "base_uri": "https://localhost:8080/"
    },
    "executionInfo": {
     "elapsed": 17,
     "status": "ok",
     "timestamp": 1694503526826,
     "user": {
      "displayName": "Ahmad Rami AlMasrifi",
      "userId": "02682501928266173600"
     },
     "user_tz": -120
    },
    "id": "gzGUvAuwQmaC",
    "outputId": "90884dcc-45b5-46e9-ebd1-4a653c13dd30"
   },
   "outputs": [],
   "source": [
    "X_test.shape, y_valid.shape"
   ]
  },
  {
   "cell_type": "markdown",
   "metadata": {
    "id": "xO2zj-t7SMea"
   },
   "source": [
    "## Saving the Data\n",
    "\n",
    "We save the data in a single .npz file for ease of access and importing when training and testing models."
   ]
  },
  {
   "cell_type": "code",
   "execution_count": null,
   "metadata": {
    "id": "eCfMyey-QnuT"
   },
   "outputs": [],
   "source": [
    "np.savez_compressed('/project/data.npz',\n",
    "                    X_train=X_train, X_valid=X_valid, X_test=X_test,\n",
    "                    y_train=y_train, y_valid=y_valid, y_test=y_test)"
   ]
  },
  {
   "cell_type": "code",
   "execution_count": null,
   "metadata": {
    "id": "wxjXBXklTWPP"
   },
   "outputs": [],
   "source": [
    "del X_train, X_valid, X_test, y_train, y_valid, y_test"
   ]
  },
  {
   "cell_type": "code",
   "execution_count": null,
   "metadata": {
    "id": "hAjUX6sPRoiK"
   },
   "outputs": [],
   "source": [
    "with np.load('/project/data.npz', allow_pickle=True) as data:\n",
    "    X_train = data['X_train']\n",
    "    X_valid = data['X_valid']\n",
    "    X_test = data['X_test']\n",
    "    y_train = data['y_train']\n",
    "    y_valid = data['y_valid']\n",
    "    y_test = data['y_test']"
   ]
  },
  {
   "cell_type": "code",
   "execution_count": null,
   "metadata": {
    "colab": {
     "base_uri": "https://localhost:8080/"
    },
    "executionInfo": {
     "elapsed": 38,
     "status": "ok",
     "timestamp": 1694503556725,
     "user": {
      "displayName": "Ahmad Rami AlMasrifi",
      "userId": "02682501928266173600"
     },
     "user_tz": -120
    },
    "id": "Ys1MJfVvT9SJ",
    "outputId": "6a3ec371-90d9-48b6-b33d-e2d9e4b5d384"
   },
   "outputs": [],
   "source": [
    "X_train.shape, y_train.shape"
   ]
  },
  {
   "cell_type": "code",
   "execution_count": null,
   "metadata": {
    "colab": {
     "base_uri": "https://localhost:8080/"
    },
    "executionInfo": {
     "elapsed": 33,
     "status": "ok",
     "timestamp": 1694503556725,
     "user": {
      "displayName": "Ahmad Rami AlMasrifi",
      "userId": "02682501928266173600"
     },
     "user_tz": -120
    },
    "id": "Xh4uBFtPULFw",
    "outputId": "6b47864c-e162-464d-9743-b60582f95ff9"
   },
   "outputs": [],
   "source": [
    "X_valid.shape, y_valid.shape"
   ]
  },
  {
   "cell_type": "code",
   "execution_count": null,
   "metadata": {
    "colab": {
     "base_uri": "https://localhost:8080/"
    },
    "executionInfo": {
     "elapsed": 30,
     "status": "ok",
     "timestamp": 1694503556726,
     "user": {
      "displayName": "Ahmad Rami AlMasrifi",
      "userId": "02682501928266173600"
     },
     "user_tz": -120
    },
    "id": "JuvB03DTUNLX",
    "outputId": "3ba442d3-8abb-4683-a69c-30cacbd21a75"
   },
   "outputs": [],
   "source": [
    "X_test.shape, y_test.shape"
   ]
  },
  {
   "cell_type": "code",
   "execution_count": null,
   "metadata": {},
   "outputs": [],
   "source": []
  }
 ],
 "metadata": {
  "colab": {
   "authorship_tag": "ABX9TyPwaGjSUsUNMP4M7zvBH1r9",
   "machine_shape": "hm",
   "provenance": []
  },
  "kernelspec": {
   "display_name": "Python 3 (ipykernel)",
   "language": "python",
   "name": "python3"
  },
  "language_info": {
   "codemirror_mode": {
    "name": "ipython",
    "version": 3
   },
   "file_extension": ".py",
   "mimetype": "text/x-python",
   "name": "python",
   "nbconvert_exporter": "python",
   "pygments_lexer": "ipython3",
   "version": "3.8.10"
  }
 },
 "nbformat": 4,
 "nbformat_minor": 4
}
